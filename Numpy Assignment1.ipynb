{
 "cells": [
  {
   "cell_type": "raw",
   "id": "a75cffad-9ad7-414d-b67d-3b65dc516978",
   "metadata": {},
   "source": [
    "Consider the below code to answer further questions:\n",
    "import numpy as np\n",
    "list_ = [ ‘1’ , ’2’ , ‘3’ , ‘4’ , ‘5’ ]\n",
    "array_list = np.array(object = list_)\n",
    "\n",
    "Q1. Is there any difference in the data type of variables list_ and array_list? If there is then write a code\n",
    "to print the data types of both the variables.\n",
    "\n",
    "Ans--"
   ]
  },
  {
   "cell_type": "markdown",
   "id": "d5d24664-478c-4e3e-83c9-3ce9e9b82cf2",
   "metadata": {},
   "source": [
    "Yes, there is a difference in the data type of the variables list_ and array_list. The variable list_ is a Python list, while array_list is a NumPy array.\n",
    "\n",
    "To print the data types of both variables, you can use the type() function in Python. Here's the code:"
   ]
  },
  {
   "cell_type": "code",
   "execution_count": 1,
   "id": "d49b5ce7-caed-4a44-976e-c61fd3cf899b",
   "metadata": {},
   "outputs": [
    {
     "name": "stdout",
     "output_type": "stream",
     "text": [
      "Data type of list_: <class 'list'>\n",
      "Data type of array_list: <class 'numpy.ndarray'>\n"
     ]
    }
   ],
   "source": [
    "import numpy as np\n",
    "\n",
    "list_ = ['1', '2', '3', '4', '5']\n",
    "array_list = np.array(object=list_)\n",
    "\n",
    "print(\"Data type of list_:\", type(list_))\n",
    "print(\"Data type of array_list:\", type(array_list))\n"
   ]
  },
  {
   "cell_type": "markdown",
   "id": "af5ad9b3-11cd-4919-8477-4d596d75df54",
   "metadata": {},
   "source": [
    "The data type of list_ is <class 'list'> (Python list), and the data type of array_list is <class 'numpy.ndarray'> (NumPy array)."
   ]
  },
  {
   "cell_type": "raw",
   "id": "f5d25a2f-76e0-4304-9caf-6ec01fd272bb",
   "metadata": {},
   "source": [
    "Q2. Write a code to print the data type of each and every element of both the variables list_ and\n",
    "arra_list.\n",
    "\n",
    "Ans--"
   ]
  },
  {
   "cell_type": "markdown",
   "id": "5b691b83-e4f6-4cdd-ac36-1dfa1d1e783d",
   "metadata": {},
   "source": [
    "To print the data type of each element in both list_ and array_list, you can iterate over the elements and use the type() function. Here's the code:"
   ]
  },
  {
   "cell_type": "code",
   "execution_count": 3,
   "id": "3aa2bd8d-f6bb-4d6d-9163-cb76cea52923",
   "metadata": {},
   "outputs": [
    {
     "name": "stdout",
     "output_type": "stream",
     "text": [
      "Data type of an element list_:\n",
      "<class 'str'>\n",
      "<class 'str'>\n",
      "<class 'str'>\n",
      "<class 'str'>\n",
      "<class 'str'>\n",
      "\n",
      "Data types of elements in array_list:\n",
      "<class 'numpy.str_'>\n",
      "<class 'numpy.str_'>\n",
      "<class 'numpy.str_'>\n",
      "<class 'numpy.str_'>\n",
      "<class 'numpy.str_'>\n"
     ]
    }
   ],
   "source": [
    "import numpy as np\n",
    "list_=['1,','2','3','4','5']\n",
    "array_list=np.array(object=list_)\n",
    "# Print data types of elements in list_\n",
    "print(\"Data type of an element list_:\")\n",
    "for element in list_:\n",
    "    print(type(element))\n",
    "# Print data types of elements in array_list\n",
    "print(\"\\nData types of elements in array_list:\")    \n",
    "for element in array_list:\n",
    "    print(type(element))"
   ]
  },
  {
   "cell_type": "raw",
   "id": "6e853654-34b6-44f1-9eac-3e0798920d12",
   "metadata": {},
   "source": [
    "Q3. Considering the following changes in the variable, array_list:\n",
    "array_list = np.array(object = list_, dtype = int)\n",
    "Will there be any difference in the data type of the elements present in both the variables, list_ and\n",
    "arra_list? If so then print the data types of each and every element present in both the variables, list_\n",
    "and arra_list.\n",
    "Consider the below code to answer further questions:\n",
    "import numpy as np\n",
    "num_list = [ [ 1 , 2 , 3 ] , [ 4 , 5 , 6 ] ]\n",
    "num_array = np.array(object = num_list)\n",
    "\n",
    "Ans--"
   ]
  },
  {
   "cell_type": "markdown",
   "id": "482788a9-26e5-460a-874c-82af844e3dd7",
   "metadata": {},
   "source": [
    "The variable num_list is a Python list containing nested lists of integers. Each element in num_list is an integer.\n",
    "\n",
    "The variable array_list is created by converting num_list into a NumPy array using the np.array() function. By specifying dtype = int, you are explicitly indicating that the data type of the elements in array_list should be integers.\n",
    "\n",
    "Here's the corrected code and the data types of the elements in both variables:"
   ]
  },
  {
   "cell_type": "code",
   "execution_count": 5,
   "id": "61dc94b2-adb4-4fd3-9cda-7bfe746ffcb2",
   "metadata": {},
   "outputs": [
    {
     "name": "stdout",
     "output_type": "stream",
     "text": [
      "Data types in num_list:\n",
      "<class 'int'>\n",
      "<class 'int'>\n",
      "<class 'int'>\n",
      "<class 'int'>\n",
      "<class 'int'>\n",
      "<class 'int'>\n",
      "\n",
      "Data types in array_list:\n",
      "<class 'numpy.int64'>\n",
      "<class 'numpy.int64'>\n",
      "<class 'numpy.int64'>\n",
      "<class 'numpy.int64'>\n",
      "<class 'numpy.int64'>\n",
      "<class 'numpy.int64'>\n"
     ]
    }
   ],
   "source": [
    "import numpy as np\n",
    "\n",
    "num_list = [[1, 2, 3], [4, 5, 6]]\n",
    "array_list = np.array(num_list, dtype=int)\n",
    "\n",
    "print(\"Data types in num_list:\")\n",
    "for sublist in num_list:\n",
    "    for element in sublist:\n",
    "        print(type(element))\n",
    "\n",
    "print(\"\\nData types in array_list:\")\n",
    "for element in array_list.flatten():\n",
    "    print(type(element))\n"
   ]
  },
  {
   "cell_type": "markdown",
   "id": "9deb1272-edb5-4414-ba3a-e85699387e3a",
   "metadata": {},
   "source": [
    "The data types in num_list are standard Python integers (int), while the data types in array_list are NumPy integers (numpy.int64). NumPy uses its own data types to efficiently manage arrays, and in this case, it automatically converts the elements to numpy.int64."
   ]
  },
  {
   "cell_type": "raw",
   "id": "caa6fac4-ed9b-473c-abb1-8a98a0990bd4",
   "metadata": {},
   "source": [
    "Q4. Write a code to find the following characteristics of variable, num_array:\n",
    "(i) shape\n",
    "(ii) size\n",
    "\n",
    "Ans--"
   ]
  },
  {
   "cell_type": "code",
   "execution_count": 6,
   "id": "4760c382-a94f-4f6d-92f9-65d56939b2df",
   "metadata": {},
   "outputs": [
    {
     "name": "stdout",
     "output_type": "stream",
     "text": [
      "Shape of the num_array (2, 3)\n",
      "Size of the num_array 6\n"
     ]
    }
   ],
   "source": [
    "num_list=[[1,2,3],[4,5,6]]\n",
    "num_array=np.array(num_list)\n",
    "Shape=num_array.shape\n",
    "Size=num_array.size\n",
    "print(\"Shape of the num_array\",Shape)\n",
    "print(\"Size of the num_array\",Size)"
   ]
  },
  {
   "cell_type": "markdown",
   "id": "44280580-0b4e-4f27-ada9-277dcb175ab1",
   "metadata": {},
   "source": [
    "The shape attribute returns a tuple representing the dimensions of the array, in this case, (2, 3), indicating that num_array has 2 rows and 3 columns.\n",
    "\n",
    "The size attribute returns the total number of elements in the array, which is 6 in this case."
   ]
  },
  {
   "cell_type": "raw",
   "id": "53568da1-db73-418f-9b97-afa2ab8c48f1",
   "metadata": {},
   "source": [
    "Q5. Write a code to create numpy array of 3*3 matrix containing zeros only, using a numpy array\n",
    "creation function.\n",
    "[Hint: The size of the array will be 9 and the shape will be (3,3).]\n",
    "\n",
    "Ans--"
   ]
  },
  {
   "cell_type": "code",
   "execution_count": 7,
   "id": "913d5259-07ca-4ed0-b4da-af603ccc160d",
   "metadata": {},
   "outputs": [
    {
     "name": "stdout",
     "output_type": "stream",
     "text": [
      "[[0. 0. 0.]\n",
      " [0. 0. 0.]\n",
      " [0. 0. 0.]]\n"
     ]
    }
   ],
   "source": [
    "zero_array=np.zeros((3,3))\n",
    "print(zero_array)"
   ]
  },
  {
   "cell_type": "raw",
   "id": "dfb70407-3943-4125-b22b-e69c8d442ffd",
   "metadata": {},
   "source": [
    "Q6. Create an identity matrix of shape (5,5) using numpy functions?\n",
    "[Hint: An identity matrix is a matrix containing 1 diagonally and other elements will be 0.]\n",
    "\n",
    "Ans--"
   ]
  },
  {
   "cell_type": "code",
   "execution_count": null,
   "id": "94fdaa7e-fd3b-4e80-b095-e00fea888919",
   "metadata": {},
   "outputs": [],
   "source": []
  }
 ],
 "metadata": {
  "kernelspec": {
   "display_name": "Python 3 (ipykernel)",
   "language": "python",
   "name": "python3"
  },
  "language_info": {
   "codemirror_mode": {
    "name": "ipython",
    "version": 3
   },
   "file_extension": ".py",
   "mimetype": "text/x-python",
   "name": "python",
   "nbconvert_exporter": "python",
   "pygments_lexer": "ipython3",
   "version": "3.10.8"
  }
 },
 "nbformat": 4,
 "nbformat_minor": 5
}
